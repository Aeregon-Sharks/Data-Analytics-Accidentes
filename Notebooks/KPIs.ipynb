{
 "cells": [
  {
   "cell_type": "markdown",
   "metadata": {},
   "source": [
    "# Notebook KPIs\n",
    "En este notebook se realizaran los distintos set de datos que serán usados para medir los KPI propuestos, los cuales son los siguientes:<br><br>\n",
    "\n",
    "1. Reducir en un 10% la **tasa de homicidios** en siniestros viales de los últimos seis meses, en CABA, en comparación con la tasa de homicidios en siniestros viales del semestre anterior.  \n",
    "    - **Tasa de homicidios en siniestros viales =** (Número de homicidios en siniestros viales / Población total) * 100,000  <br><br>\n",
    "\n",
    "2. Reducir en un 7% la cantidad de accidentes mortales de motociclistas en el último año, en CABA, respecto al año anterior.  <br><br>\n",
    "\n",
    "3. El 3° KPI es de libre elección, he optado por centrarnos en reducir la principal victima de accidentes en la vía, como vimos en el EDA, estos son los Peatones, por lo que planteo como un KPI razonable una disminución del 10% en la cantidad de accidentes mortales de peatones en cada año, respecto al anterior."
   ]
  },
  {
   "cell_type": "markdown",
   "metadata": {},
   "source": [
    "# Importamos las librerías necesarias y los datos que usaremos"
   ]
  },
  {
   "cell_type": "code",
   "execution_count": 40,
   "metadata": {},
   "outputs": [],
   "source": [
    "import pandas as pd # Trabajaremos los datos con pandas."
   ]
  },
  {
   "cell_type": "code",
   "execution_count": 41,
   "metadata": {},
   "outputs": [],
   "source": [
    "df = pd.read_csv('../Data/Processed/homicidios_clean.csv', encoding='utf-8')"
   ]
  },
  {
   "cell_type": "markdown",
   "metadata": {},
   "source": [
    "# KPI1: Reducir en un 10% la tasa de homicidios en siniestro viales de los últimos seis meses, respecto al semestre anterior."
   ]
  },
  {
   "cell_type": "markdown",
   "metadata": {},
   "source": [
    "Para calcular esta taza, necesitamos saber la población total de la ciudad de Buenos Aires, el censo 2022 indica 3,121,707 habitantes, y el censo 2010 indica 2,890,151 habitantes, al ser los únicos censos disponibles, debemos calcular el aproximado de población de cada semestre que evaluaremos."
   ]
  },
  {
   "cell_type": "code",
   "execution_count": 42,
   "metadata": {},
   "outputs": [
    {
     "name": "stdout",
     "output_type": "stream",
     "text": [
      "Cada año entre 2010 y 2022, la población creció en 23155.6 habitantes\n",
      "\n"
     ]
    },
    {
     "data": {
      "text/html": [
       "<div>\n",
       "<style scoped>\n",
       "    .dataframe tbody tr th:only-of-type {\n",
       "        vertical-align: middle;\n",
       "    }\n",
       "\n",
       "    .dataframe tbody tr th {\n",
       "        vertical-align: top;\n",
       "    }\n",
       "\n",
       "    .dataframe thead th {\n",
       "        text-align: right;\n",
       "    }\n",
       "</style>\n",
       "<table border=\"1\" class=\"dataframe\">\n",
       "  <thead>\n",
       "    <tr style=\"text-align: right;\">\n",
       "      <th></th>\n",
       "      <th>Población</th>\n",
       "    </tr>\n",
       "    <tr>\n",
       "      <th>Anio</th>\n",
       "      <th></th>\n",
       "    </tr>\n",
       "  </thead>\n",
       "  <tbody>\n",
       "    <tr>\n",
       "      <th>2016</th>\n",
       "      <td>3029084</td>\n",
       "    </tr>\n",
       "    <tr>\n",
       "      <th>2017</th>\n",
       "      <td>3052240</td>\n",
       "    </tr>\n",
       "    <tr>\n",
       "      <th>2018</th>\n",
       "      <td>3075395</td>\n",
       "    </tr>\n",
       "    <tr>\n",
       "      <th>2019</th>\n",
       "      <td>3098551</td>\n",
       "    </tr>\n",
       "    <tr>\n",
       "      <th>2020</th>\n",
       "      <td>3121707</td>\n",
       "    </tr>\n",
       "    <tr>\n",
       "      <th>2021</th>\n",
       "      <td>3144862</td>\n",
       "    </tr>\n",
       "  </tbody>\n",
       "</table>\n",
       "</div>"
      ],
      "text/plain": [
       "      Población\n",
       "Anio           \n",
       "2016    3029084\n",
       "2017    3052240\n",
       "2018    3075395\n",
       "2019    3098551\n",
       "2020    3121707\n",
       "2021    3144862"
      ]
     },
     "execution_count": 42,
     "metadata": {},
     "output_type": "execute_result"
    }
   ],
   "source": [
    "c10 = 2_890_151\n",
    "c22 = 3_121_707\n",
    "# Hacemos una regla de 3 para hallar el valor aproximado de crecimiento por semestre desde el 2010 hasta el 2022.\n",
    "crece = (c22 - c10)/10 # El crecimiento total en 10 años es el censo de 2022 menos el de 2010. Esto lo dividimos sobre la cantidad de años que pasaron. En este caso 10, para obtener el crecimiento de cada año.\n",
    "print(f\"Cada año entre 2010 y 2022, la población creció en {crece} habitantes\")\n",
    "# Obtenemos el aproximado de cada año de nuestro DataFrame y lo guardamos en un diccionario.\n",
    "print()\n",
    "pob = {}\n",
    "an = 2010 # El año desde que empezaremos a medir.\n",
    "pb = c10 # La población desde la que empezaremos a medir.\n",
    "for anio in df['Anio'].unique():\n",
    "    # Solo tomaremos los años que estén dentro de nuestro DataFrame, por lo que mientras que el año actual no se encuentre, se le sumará el crecimiento calculado previamente, y 1 año al año actual evaluando.\n",
    "    while an < anio:\n",
    "        pb += crece\n",
    "        an += 1\n",
    "    pob[anio] = int(pb) # Definimos la población para el año actual, en un número entero.\n",
    "pob = pd.DataFrame(list(pob.items()), columns=['Anio', 'Población']).set_index('Anio')\n",
    "pob"
   ]
  },
  {
   "cell_type": "markdown",
   "metadata": {},
   "source": [
    "Ahora agrupemos los datos para contar las victimas en cada semestre."
   ]
  },
  {
   "cell_type": "code",
   "execution_count": 43,
   "metadata": {},
   "outputs": [
    {
     "data": {
      "text/html": [
       "<div>\n",
       "<style scoped>\n",
       "    .dataframe tbody tr th:only-of-type {\n",
       "        vertical-align: middle;\n",
       "    }\n",
       "\n",
       "    .dataframe tbody tr th {\n",
       "        vertical-align: top;\n",
       "    }\n",
       "\n",
       "    .dataframe thead th {\n",
       "        text-align: right;\n",
       "    }\n",
       "</style>\n",
       "<table border=\"1\" class=\"dataframe\">\n",
       "  <thead>\n",
       "    <tr style=\"text-align: right;\">\n",
       "      <th></th>\n",
       "      <th>Fecha</th>\n",
       "      <th>NVictimas</th>\n",
       "    </tr>\n",
       "  </thead>\n",
       "  <tbody>\n",
       "    <tr>\n",
       "      <th>0</th>\n",
       "      <td>2016-01</td>\n",
       "      <td>7</td>\n",
       "    </tr>\n",
       "    <tr>\n",
       "      <th>1</th>\n",
       "      <td>2016-07</td>\n",
       "      <td>64</td>\n",
       "    </tr>\n",
       "    <tr>\n",
       "      <th>2</th>\n",
       "      <td>2017-01</td>\n",
       "      <td>70</td>\n",
       "    </tr>\n",
       "    <tr>\n",
       "      <th>3</th>\n",
       "      <td>2017-07</td>\n",
       "      <td>61</td>\n",
       "    </tr>\n",
       "    <tr>\n",
       "      <th>4</th>\n",
       "      <td>2018-01</td>\n",
       "      <td>71</td>\n",
       "    </tr>\n",
       "    <tr>\n",
       "      <th>5</th>\n",
       "      <td>2018-07</td>\n",
       "      <td>69</td>\n",
       "    </tr>\n",
       "    <tr>\n",
       "      <th>6</th>\n",
       "      <td>2019-01</td>\n",
       "      <td>72</td>\n",
       "    </tr>\n",
       "    <tr>\n",
       "      <th>7</th>\n",
       "      <td>2019-07</td>\n",
       "      <td>50</td>\n",
       "    </tr>\n",
       "    <tr>\n",
       "      <th>8</th>\n",
       "      <td>2020-01</td>\n",
       "      <td>49</td>\n",
       "    </tr>\n",
       "    <tr>\n",
       "      <th>9</th>\n",
       "      <td>2020-07</td>\n",
       "      <td>24</td>\n",
       "    </tr>\n",
       "    <tr>\n",
       "      <th>10</th>\n",
       "      <td>2021-01</td>\n",
       "      <td>60</td>\n",
       "    </tr>\n",
       "    <tr>\n",
       "      <th>11</th>\n",
       "      <td>2021-07</td>\n",
       "      <td>47</td>\n",
       "    </tr>\n",
       "    <tr>\n",
       "      <th>12</th>\n",
       "      <td>2022-01</td>\n",
       "      <td>35</td>\n",
       "    </tr>\n",
       "  </tbody>\n",
       "</table>\n",
       "</div>"
      ],
      "text/plain": [
       "      Fecha  NVictimas\n",
       "0   2016-01          7\n",
       "1   2016-07         64\n",
       "2   2017-01         70\n",
       "3   2017-07         61\n",
       "4   2018-01         71\n",
       "5   2018-07         69\n",
       "6   2019-01         72\n",
       "7   2019-07         50\n",
       "8   2020-01         49\n",
       "9   2020-07         24\n",
       "10  2021-01         60\n",
       "11  2021-07         47\n",
       "12  2022-01         35"
      ]
     },
     "execution_count": 43,
     "metadata": {},
     "output_type": "execute_result"
    }
   ],
   "source": [
    "df['Fecha'] = pd.to_datetime(df['Anio'].astype(str) + '-' + df['Mes'].astype(str)) # Relacionamos el mes y el año.\n",
    "semestre = df.groupby(pd.Grouper(key='Fecha', freq='6ME'))['NVictimas'].sum().reset_index() # Obtenemos las victimas por semestre.\n",
    "df.drop(columns=['Fecha']) # Eliminamos la columna recién creada.\n",
    "semestre['Fecha'] = semestre['Fecha'].dt.strftime('%Y-%m') # Convertimos la fecha a mes y año.\n",
    "semestre # Mostramos el resultado."
   ]
  },
  {
   "cell_type": "markdown",
   "metadata": {},
   "source": [
    "corregimos el último semestre ya que no hay registros de 2022."
   ]
  },
  {
   "cell_type": "code",
   "execution_count": 44,
   "metadata": {},
   "outputs": [],
   "source": [
    "semestre.loc[12] = {'Fecha': '2021-12', 'NVictimas':35}"
   ]
  },
  {
   "cell_type": "markdown",
   "metadata": {},
   "source": [
    "Creamos la formula para calcular la tasa de homicidios en siniestros viales"
   ]
  },
  {
   "cell_type": "code",
   "execution_count": 45,
   "metadata": {},
   "outputs": [],
   "source": [
    "def get_tasa(hom, tot):\n",
    "    return (hom/tot) * 100_000"
   ]
  },
  {
   "cell_type": "markdown",
   "metadata": {},
   "source": [
    "Aplicamos la tasa a el DataFrame"
   ]
  },
  {
   "cell_type": "code",
   "execution_count": 46,
   "metadata": {},
   "outputs": [],
   "source": [
    "semestre['Poblacion'] = semestre['Fecha'].apply(lambda x: pob.loc[int(x[:4])].iloc[0]) # Identificamos la población de cada semestre.\n",
    "semestre['TasaHomicidios'] = semestre.apply(lambda row: get_tasa(row['NVictimas'], row['Poblacion']), axis=1) # Aplicamos la formula a las victimas y al total de población."
   ]
  },
  {
   "cell_type": "markdown",
   "metadata": {},
   "source": [
    "Ahora calculamos el cambio porcentual que hubo respecto al anterior."
   ]
  },
  {
   "cell_type": "code",
   "execution_count": 47,
   "metadata": {},
   "outputs": [],
   "source": [
    "semestre['Cambio'] = round(semestre['TasaHomicidios'].pct_change() * 100, 2)"
   ]
  },
  {
   "cell_type": "code",
   "execution_count": 48,
   "metadata": {},
   "outputs": [
    {
     "data": {
      "text/html": [
       "<div>\n",
       "<style scoped>\n",
       "    .dataframe tbody tr th:only-of-type {\n",
       "        vertical-align: middle;\n",
       "    }\n",
       "\n",
       "    .dataframe tbody tr th {\n",
       "        vertical-align: top;\n",
       "    }\n",
       "\n",
       "    .dataframe thead th {\n",
       "        text-align: right;\n",
       "    }\n",
       "</style>\n",
       "<table border=\"1\" class=\"dataframe\">\n",
       "  <thead>\n",
       "    <tr style=\"text-align: right;\">\n",
       "      <th></th>\n",
       "      <th>Fecha</th>\n",
       "      <th>NVictimas</th>\n",
       "      <th>Poblacion</th>\n",
       "      <th>TasaHomicidios</th>\n",
       "      <th>Cambio</th>\n",
       "    </tr>\n",
       "  </thead>\n",
       "  <tbody>\n",
       "    <tr>\n",
       "      <th>0</th>\n",
       "      <td>2016-01</td>\n",
       "      <td>7</td>\n",
       "      <td>3029084</td>\n",
       "      <td>0.231093</td>\n",
       "      <td>NaN</td>\n",
       "    </tr>\n",
       "    <tr>\n",
       "      <th>1</th>\n",
       "      <td>2016-07</td>\n",
       "      <td>64</td>\n",
       "      <td>3029084</td>\n",
       "      <td>2.112850</td>\n",
       "      <td>814.29</td>\n",
       "    </tr>\n",
       "    <tr>\n",
       "      <th>2</th>\n",
       "      <td>2017-01</td>\n",
       "      <td>70</td>\n",
       "      <td>3052240</td>\n",
       "      <td>2.293398</td>\n",
       "      <td>8.55</td>\n",
       "    </tr>\n",
       "    <tr>\n",
       "      <th>3</th>\n",
       "      <td>2017-07</td>\n",
       "      <td>61</td>\n",
       "      <td>3052240</td>\n",
       "      <td>1.998532</td>\n",
       "      <td>-12.86</td>\n",
       "    </tr>\n",
       "    <tr>\n",
       "      <th>4</th>\n",
       "      <td>2018-01</td>\n",
       "      <td>71</td>\n",
       "      <td>3075395</td>\n",
       "      <td>2.308647</td>\n",
       "      <td>15.52</td>\n",
       "    </tr>\n",
       "    <tr>\n",
       "      <th>5</th>\n",
       "      <td>2018-07</td>\n",
       "      <td>69</td>\n",
       "      <td>3075395</td>\n",
       "      <td>2.243614</td>\n",
       "      <td>-2.82</td>\n",
       "    </tr>\n",
       "    <tr>\n",
       "      <th>6</th>\n",
       "      <td>2019-01</td>\n",
       "      <td>72</td>\n",
       "      <td>3098551</td>\n",
       "      <td>2.323667</td>\n",
       "      <td>3.57</td>\n",
       "    </tr>\n",
       "    <tr>\n",
       "      <th>7</th>\n",
       "      <td>2019-07</td>\n",
       "      <td>50</td>\n",
       "      <td>3098551</td>\n",
       "      <td>1.613657</td>\n",
       "      <td>-30.56</td>\n",
       "    </tr>\n",
       "    <tr>\n",
       "      <th>8</th>\n",
       "      <td>2020-01</td>\n",
       "      <td>49</td>\n",
       "      <td>3121707</td>\n",
       "      <td>1.569654</td>\n",
       "      <td>-2.73</td>\n",
       "    </tr>\n",
       "    <tr>\n",
       "      <th>9</th>\n",
       "      <td>2020-07</td>\n",
       "      <td>24</td>\n",
       "      <td>3121707</td>\n",
       "      <td>0.768810</td>\n",
       "      <td>-51.02</td>\n",
       "    </tr>\n",
       "    <tr>\n",
       "      <th>10</th>\n",
       "      <td>2021-01</td>\n",
       "      <td>60</td>\n",
       "      <td>3144862</td>\n",
       "      <td>1.907874</td>\n",
       "      <td>148.16</td>\n",
       "    </tr>\n",
       "    <tr>\n",
       "      <th>11</th>\n",
       "      <td>2021-07</td>\n",
       "      <td>47</td>\n",
       "      <td>3144862</td>\n",
       "      <td>1.494501</td>\n",
       "      <td>-21.67</td>\n",
       "    </tr>\n",
       "    <tr>\n",
       "      <th>12</th>\n",
       "      <td>2021-12</td>\n",
       "      <td>35</td>\n",
       "      <td>3144862</td>\n",
       "      <td>1.112926</td>\n",
       "      <td>-25.53</td>\n",
       "    </tr>\n",
       "  </tbody>\n",
       "</table>\n",
       "</div>"
      ],
      "text/plain": [
       "      Fecha  NVictimas  Poblacion  TasaHomicidios  Cambio\n",
       "0   2016-01          7    3029084        0.231093     NaN\n",
       "1   2016-07         64    3029084        2.112850  814.29\n",
       "2   2017-01         70    3052240        2.293398    8.55\n",
       "3   2017-07         61    3052240        1.998532  -12.86\n",
       "4   2018-01         71    3075395        2.308647   15.52\n",
       "5   2018-07         69    3075395        2.243614   -2.82\n",
       "6   2019-01         72    3098551        2.323667    3.57\n",
       "7   2019-07         50    3098551        1.613657  -30.56\n",
       "8   2020-01         49    3121707        1.569654   -2.73\n",
       "9   2020-07         24    3121707        0.768810  -51.02\n",
       "10  2021-01         60    3144862        1.907874  148.16\n",
       "11  2021-07         47    3144862        1.494501  -21.67\n",
       "12  2021-12         35    3144862        1.112926  -25.53"
      ]
     },
     "execution_count": 48,
     "metadata": {},
     "output_type": "execute_result"
    }
   ],
   "source": [
    "semestre"
   ]
  },
  {
   "cell_type": "markdown",
   "metadata": {},
   "source": [
    "Observando el resultado, eliminaré el primer semestre (2016-01) debido a que puede ser considerado un outlier, que alterará los resultados de nuestro análisis."
   ]
  },
  {
   "cell_type": "code",
   "execution_count": 49,
   "metadata": {},
   "outputs": [],
   "source": [
    "semestre = semestre.drop(0).reset_index(drop=True)"
   ]
  },
  {
   "cell_type": "markdown",
   "metadata": {},
   "source": [
    "Corregimos el primer semestre para que sea 0 el cambio."
   ]
  },
  {
   "cell_type": "code",
   "execution_count": 50,
   "metadata": {},
   "outputs": [],
   "source": [
    "semestre.loc[0, 'Cambio'] = 0"
   ]
  },
  {
   "cell_type": "markdown",
   "metadata": {},
   "source": [
    "Eliminamos las columnas de sobra."
   ]
  },
  {
   "cell_type": "code",
   "execution_count": 51,
   "metadata": {},
   "outputs": [],
   "source": [
    "semestre.drop(columns=['NVictimas', 'Poblacion'], inplace=True)"
   ]
  },
  {
   "cell_type": "markdown",
   "metadata": {},
   "source": [
    "Observamos y exportamos el resultado final."
   ]
  },
  {
   "cell_type": "code",
   "execution_count": 52,
   "metadata": {},
   "outputs": [
    {
     "data": {
      "text/html": [
       "<div>\n",
       "<style scoped>\n",
       "    .dataframe tbody tr th:only-of-type {\n",
       "        vertical-align: middle;\n",
       "    }\n",
       "\n",
       "    .dataframe tbody tr th {\n",
       "        vertical-align: top;\n",
       "    }\n",
       "\n",
       "    .dataframe thead th {\n",
       "        text-align: right;\n",
       "    }\n",
       "</style>\n",
       "<table border=\"1\" class=\"dataframe\">\n",
       "  <thead>\n",
       "    <tr style=\"text-align: right;\">\n",
       "      <th></th>\n",
       "      <th>Fecha</th>\n",
       "      <th>TasaHomicidios</th>\n",
       "      <th>Cambio</th>\n",
       "    </tr>\n",
       "  </thead>\n",
       "  <tbody>\n",
       "    <tr>\n",
       "      <th>0</th>\n",
       "      <td>2016-07</td>\n",
       "      <td>2.112850</td>\n",
       "      <td>0.00</td>\n",
       "    </tr>\n",
       "    <tr>\n",
       "      <th>1</th>\n",
       "      <td>2017-01</td>\n",
       "      <td>2.293398</td>\n",
       "      <td>8.55</td>\n",
       "    </tr>\n",
       "    <tr>\n",
       "      <th>2</th>\n",
       "      <td>2017-07</td>\n",
       "      <td>1.998532</td>\n",
       "      <td>-12.86</td>\n",
       "    </tr>\n",
       "    <tr>\n",
       "      <th>3</th>\n",
       "      <td>2018-01</td>\n",
       "      <td>2.308647</td>\n",
       "      <td>15.52</td>\n",
       "    </tr>\n",
       "    <tr>\n",
       "      <th>4</th>\n",
       "      <td>2018-07</td>\n",
       "      <td>2.243614</td>\n",
       "      <td>-2.82</td>\n",
       "    </tr>\n",
       "    <tr>\n",
       "      <th>5</th>\n",
       "      <td>2019-01</td>\n",
       "      <td>2.323667</td>\n",
       "      <td>3.57</td>\n",
       "    </tr>\n",
       "    <tr>\n",
       "      <th>6</th>\n",
       "      <td>2019-07</td>\n",
       "      <td>1.613657</td>\n",
       "      <td>-30.56</td>\n",
       "    </tr>\n",
       "    <tr>\n",
       "      <th>7</th>\n",
       "      <td>2020-01</td>\n",
       "      <td>1.569654</td>\n",
       "      <td>-2.73</td>\n",
       "    </tr>\n",
       "    <tr>\n",
       "      <th>8</th>\n",
       "      <td>2020-07</td>\n",
       "      <td>0.768810</td>\n",
       "      <td>-51.02</td>\n",
       "    </tr>\n",
       "    <tr>\n",
       "      <th>9</th>\n",
       "      <td>2021-01</td>\n",
       "      <td>1.907874</td>\n",
       "      <td>148.16</td>\n",
       "    </tr>\n",
       "    <tr>\n",
       "      <th>10</th>\n",
       "      <td>2021-07</td>\n",
       "      <td>1.494501</td>\n",
       "      <td>-21.67</td>\n",
       "    </tr>\n",
       "    <tr>\n",
       "      <th>11</th>\n",
       "      <td>2021-12</td>\n",
       "      <td>1.112926</td>\n",
       "      <td>-25.53</td>\n",
       "    </tr>\n",
       "  </tbody>\n",
       "</table>\n",
       "</div>"
      ],
      "text/plain": [
       "      Fecha  TasaHomicidios  Cambio\n",
       "0   2016-07        2.112850    0.00\n",
       "1   2017-01        2.293398    8.55\n",
       "2   2017-07        1.998532  -12.86\n",
       "3   2018-01        2.308647   15.52\n",
       "4   2018-07        2.243614   -2.82\n",
       "5   2019-01        2.323667    3.57\n",
       "6   2019-07        1.613657  -30.56\n",
       "7   2020-01        1.569654   -2.73\n",
       "8   2020-07        0.768810  -51.02\n",
       "9   2021-01        1.907874  148.16\n",
       "10  2021-07        1.494501  -21.67\n",
       "11  2021-12        1.112926  -25.53"
      ]
     },
     "execution_count": 52,
     "metadata": {},
     "output_type": "execute_result"
    }
   ],
   "source": [
    "semestre"
   ]
  },
  {
   "cell_type": "code",
   "execution_count": 53,
   "metadata": {},
   "outputs": [],
   "source": [
    "semestre.rename(columns={'Fecha':'Semestre'}, inplace=True)"
   ]
  },
  {
   "cell_type": "code",
   "execution_count": 54,
   "metadata": {},
   "outputs": [],
   "source": [
    "semestre.to_csv('../Data/KPIs/kpi_homicidios.csv', index=False)"
   ]
  },
  {
   "cell_type": "markdown",
   "metadata": {},
   "source": [
    "# KPI 2: Reducir en un 7% la cantidad de accidentes mortales de motociclistas en el último año, respecto al año anterior."
   ]
  },
  {
   "cell_type": "markdown",
   "metadata": {},
   "source": [
    "Filtramos los datos para obtener los accidentes en moto."
   ]
  },
  {
   "cell_type": "code",
   "execution_count": 55,
   "metadata": {},
   "outputs": [],
   "source": [
    "df_moto = df[df['Victima'] == 'moto']"
   ]
  },
  {
   "cell_type": "markdown",
   "metadata": {},
   "source": [
    "Contamos la cantidad de accidentes que hubo en moto para cada año."
   ]
  },
  {
   "cell_type": "code",
   "execution_count": 56,
   "metadata": {},
   "outputs": [],
   "source": [
    "df_moto = df_moto.groupby('Anio').size().reset_index()"
   ]
  },
  {
   "cell_type": "markdown",
   "metadata": {},
   "source": [
    "Nombramos la columna de accidentes totales."
   ]
  },
  {
   "cell_type": "code",
   "execution_count": 57,
   "metadata": {},
   "outputs": [],
   "source": [
    "df_moto.rename(columns={0:'Accidentes'}, inplace=True)"
   ]
  },
  {
   "cell_type": "markdown",
   "metadata": {},
   "source": [
    "Calculamos el cambio porcentual que hubo respecto al año anterior."
   ]
  },
  {
   "cell_type": "code",
   "execution_count": 58,
   "metadata": {},
   "outputs": [],
   "source": [
    "df_moto['Cambio'] = round(df_moto['Accidentes'].pct_change() * 100, 2)"
   ]
  },
  {
   "cell_type": "markdown",
   "metadata": {},
   "source": [
    "Corregimos la primera columna para que sea un 0 y no un NAN."
   ]
  },
  {
   "cell_type": "code",
   "execution_count": 59,
   "metadata": {},
   "outputs": [],
   "source": [
    "df_moto.loc[0, 'Cambio'] = 0"
   ]
  },
  {
   "cell_type": "markdown",
   "metadata": {},
   "source": [
    "Mostramos y exportamos el resultado."
   ]
  },
  {
   "cell_type": "code",
   "execution_count": 60,
   "metadata": {},
   "outputs": [
    {
     "data": {
      "text/html": [
       "<div>\n",
       "<style scoped>\n",
       "    .dataframe tbody tr th:only-of-type {\n",
       "        vertical-align: middle;\n",
       "    }\n",
       "\n",
       "    .dataframe tbody tr th {\n",
       "        vertical-align: top;\n",
       "    }\n",
       "\n",
       "    .dataframe thead th {\n",
       "        text-align: right;\n",
       "    }\n",
       "</style>\n",
       "<table border=\"1\" class=\"dataframe\">\n",
       "  <thead>\n",
       "    <tr style=\"text-align: right;\">\n",
       "      <th></th>\n",
       "      <th>Anio</th>\n",
       "      <th>Accidentes</th>\n",
       "      <th>Cambio</th>\n",
       "    </tr>\n",
       "  </thead>\n",
       "  <tbody>\n",
       "    <tr>\n",
       "      <th>0</th>\n",
       "      <td>2016</td>\n",
       "      <td>59</td>\n",
       "      <td>0.00</td>\n",
       "    </tr>\n",
       "    <tr>\n",
       "      <th>1</th>\n",
       "      <td>2017</td>\n",
       "      <td>47</td>\n",
       "      <td>-20.34</td>\n",
       "    </tr>\n",
       "    <tr>\n",
       "      <th>2</th>\n",
       "      <td>2018</td>\n",
       "      <td>55</td>\n",
       "      <td>17.02</td>\n",
       "    </tr>\n",
       "    <tr>\n",
       "      <th>3</th>\n",
       "      <td>2019</td>\n",
       "      <td>47</td>\n",
       "      <td>-14.55</td>\n",
       "    </tr>\n",
       "    <tr>\n",
       "      <th>4</th>\n",
       "      <td>2020</td>\n",
       "      <td>26</td>\n",
       "      <td>-44.68</td>\n",
       "    </tr>\n",
       "    <tr>\n",
       "      <th>5</th>\n",
       "      <td>2021</td>\n",
       "      <td>45</td>\n",
       "      <td>73.08</td>\n",
       "    </tr>\n",
       "  </tbody>\n",
       "</table>\n",
       "</div>"
      ],
      "text/plain": [
       "   Anio  Accidentes  Cambio\n",
       "0  2016          59    0.00\n",
       "1  2017          47  -20.34\n",
       "2  2018          55   17.02\n",
       "3  2019          47  -14.55\n",
       "4  2020          26  -44.68\n",
       "5  2021          45   73.08"
      ]
     },
     "execution_count": 60,
     "metadata": {},
     "output_type": "execute_result"
    }
   ],
   "source": [
    "df_moto"
   ]
  },
  {
   "cell_type": "code",
   "execution_count": 61,
   "metadata": {},
   "outputs": [],
   "source": [
    "df_moto.to_csv('../Data/KPIs/kpi_motos.csv', index=False)"
   ]
  },
  {
   "cell_type": "markdown",
   "metadata": {},
   "source": [
    "# KPI 3: Reducir en un 10% la cantidad de accidentes mortales de peatones en el último año, respecto al año anterior."
   ]
  },
  {
   "cell_type": "markdown",
   "metadata": {},
   "source": [
    "Repetimos el proceso para crear el anterior KPI, pero esta vez con peatones."
   ]
  },
  {
   "cell_type": "code",
   "execution_count": 62,
   "metadata": {},
   "outputs": [],
   "source": [
    "df_pea = df[df['Victima'] == 'peaton']\n",
    "df_pea = df_pea.groupby('Anio').size().reset_index()\n",
    "df_pea.rename(columns={0:'Accidentes'}, inplace=True)\n",
    "df_pea['Cambio'] = round(df_pea['Accidentes'].pct_change() * 100, 2)\n",
    "df_pea.loc[0, 'Cambio'] = 0"
   ]
  },
  {
   "cell_type": "code",
   "execution_count": 63,
   "metadata": {},
   "outputs": [
    {
     "data": {
      "text/html": [
       "<div>\n",
       "<style scoped>\n",
       "    .dataframe tbody tr th:only-of-type {\n",
       "        vertical-align: middle;\n",
       "    }\n",
       "\n",
       "    .dataframe tbody tr th {\n",
       "        vertical-align: top;\n",
       "    }\n",
       "\n",
       "    .dataframe thead th {\n",
       "        text-align: right;\n",
       "    }\n",
       "</style>\n",
       "<table border=\"1\" class=\"dataframe\">\n",
       "  <thead>\n",
       "    <tr style=\"text-align: right;\">\n",
       "      <th></th>\n",
       "      <th>Anio</th>\n",
       "      <th>Accidentes</th>\n",
       "      <th>Cambio</th>\n",
       "    </tr>\n",
       "  </thead>\n",
       "  <tbody>\n",
       "    <tr>\n",
       "      <th>0</th>\n",
       "      <td>2016</td>\n",
       "      <td>46</td>\n",
       "      <td>0.00</td>\n",
       "    </tr>\n",
       "    <tr>\n",
       "      <th>1</th>\n",
       "      <td>2017</td>\n",
       "      <td>49</td>\n",
       "      <td>6.52</td>\n",
       "    </tr>\n",
       "    <tr>\n",
       "      <th>2</th>\n",
       "      <td>2018</td>\n",
       "      <td>63</td>\n",
       "      <td>28.57</td>\n",
       "    </tr>\n",
       "    <tr>\n",
       "      <th>3</th>\n",
       "      <td>2019</td>\n",
       "      <td>34</td>\n",
       "      <td>-46.03</td>\n",
       "    </tr>\n",
       "    <tr>\n",
       "      <th>4</th>\n",
       "      <td>2020</td>\n",
       "      <td>34</td>\n",
       "      <td>0.00</td>\n",
       "    </tr>\n",
       "    <tr>\n",
       "      <th>5</th>\n",
       "      <td>2021</td>\n",
       "      <td>33</td>\n",
       "      <td>-2.94</td>\n",
       "    </tr>\n",
       "  </tbody>\n",
       "</table>\n",
       "</div>"
      ],
      "text/plain": [
       "   Anio  Accidentes  Cambio\n",
       "0  2016          46    0.00\n",
       "1  2017          49    6.52\n",
       "2  2018          63   28.57\n",
       "3  2019          34  -46.03\n",
       "4  2020          34    0.00\n",
       "5  2021          33   -2.94"
      ]
     },
     "execution_count": 63,
     "metadata": {},
     "output_type": "execute_result"
    }
   ],
   "source": [
    "df_pea"
   ]
  },
  {
   "cell_type": "code",
   "execution_count": 64,
   "metadata": {},
   "outputs": [],
   "source": [
    "df_pea.to_csv('../Data/KPIs/kpi_peatones.csv', index=False)"
   ]
  }
 ],
 "metadata": {
  "kernelspec": {
   "display_name": "Python 3",
   "language": "python",
   "name": "python3"
  },
  "language_info": {
   "codemirror_mode": {
    "name": "ipython",
    "version": 3
   },
   "file_extension": ".py",
   "mimetype": "text/x-python",
   "name": "python",
   "nbconvert_exporter": "python",
   "pygments_lexer": "ipython3",
   "version": "3.12.0"
  }
 },
 "nbformat": 4,
 "nbformat_minor": 2
}
