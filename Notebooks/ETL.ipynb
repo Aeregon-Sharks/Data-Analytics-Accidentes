{
 "cells": [
  {
   "cell_type": "markdown",
   "metadata": {},
   "source": [
    "# ETL Siniestros viales Argentina\n",
    "En este notebook, nos encargaremos de dejar el set de datos de los homicidios que ocurrieron en los siniestros viales limpio, para su posterior análisis y uso en KPIs."
   ]
  },
  {
   "cell_type": "markdown",
   "metadata": {},
   "source": [
    "# Importamos las librerías necesarias"
   ]
  },
  {
   "cell_type": "code",
   "execution_count": 1,
   "metadata": {},
   "outputs": [
    {
     "name": "stderr",
     "output_type": "stream",
     "text": [
      "C:\\Users\\USUARIO\\AppData\\Local\\Temp\\ipykernel_26472\\3655460051.py:1: DeprecationWarning: \n",
      "Pyarrow will become a required dependency of pandas in the next major release of pandas (pandas 3.0),\n",
      "(to allow more performant data types, such as the Arrow string type, and better interoperability with other libraries)\n",
      "but was not found to be installed on your system.\n",
      "If this would cause problems for you,\n",
      "please provide us feedback at https://github.com/pandas-dev/pandas/issues/54466\n",
      "        \n",
      "  import pandas as pd # Trataremos los datos con pandas.\n"
     ]
    }
   ],
   "source": [
    "import pandas as pd # Trataremos los datos con pandas.\n",
    "from difflib import SequenceMatcher # Compararemos cadenas de texto con SequenceMatcher.\n",
    "from IPython.display import clear_output # Limpiamos las salidas de texto.\n",
    "import os # Verificaremos archivos con OS.\n",
    "import json # Archivos JSON en python."
   ]
  },
  {
   "cell_type": "markdown",
   "metadata": {},
   "source": [
    "# 1. Carga de datos y previsualización"
   ]
  },
  {
   "cell_type": "markdown",
   "metadata": {},
   "source": [
    "El set de datos se divide en 2 hojas, siendo estas hechos y victimas, trataremos estas dos hojas y las visualizaremos juntas para hallar la relación que tienen rápidamente y saber por donde empezar.\n",
    "\n",
    "Carguemos los datos."
   ]
  },
  {
   "cell_type": "code",
   "execution_count": 2,
   "metadata": {},
   "outputs": [],
   "source": [
    "# Datos de Hechos.\n",
    "df_h = pd.read_excel('../Data/homicidios.xlsx', sheet_name=0)\n",
    "# Datos de Victimas.\n",
    "df_v = pd.read_excel('../Data/homicidios.xlsx', sheet_name=2)"
   ]
  },
  {
   "cell_type": "markdown",
   "metadata": {},
   "source": [
    "## 1.1 Tratamiento valores faltantes adicionales\n",
    "Consultando antes el diccionario de datos, se detectó que los valores faltantes en el set de datos, también se representan como SD, y como un punto para las columnas de coordenadas, por lo que reemplazaremos eso por NANs para la correcta visualización de nulos."
   ]
  },
  {
   "cell_type": "code",
   "execution_count": 3,
   "metadata": {},
   "outputs": [],
   "source": [
    "no_data = ['SD', 'Sd', 'sD', '.'] # Definimos los posibles SD (Sin Dato) y puntos que puede haber dentro del df.\n",
    "df_h = df_h.replace(no_data, pd.NA) # Los reemplazamos por un valor nulo que pandas entienda como nulo.\n",
    "df_v = df_v.replace(no_data, pd.NA)"
   ]
  },
  {
   "cell_type": "markdown",
   "metadata": {},
   "source": [
    "## 1.2 Previsualización"
   ]
  },
  {
   "cell_type": "markdown",
   "metadata": {},
   "source": [
    "Empezamos viendo los valores faltantes de cada DataFrame."
   ]
  },
  {
   "cell_type": "code",
   "execution_count": 4,
   "metadata": {},
   "outputs": [
    {
     "data": {
      "text/plain": [
       "ID                         0\n",
       "N_VICTIMAS                 0\n",
       "FECHA                      0\n",
       "AAAA                       0\n",
       "MM                         0\n",
       "DD                         0\n",
       "HORA                       1\n",
       "HH                         1\n",
       "LUGAR_DEL_HECHO            1\n",
       "TIPO_DE_CALLE              0\n",
       "Calle                      1\n",
       "Altura                   567\n",
       "Cruce                    171\n",
       "Dirección Normalizada      8\n",
       "COMUNA                     0\n",
       "XY (CABA)                  0\n",
       "pos x                     12\n",
       "pos y                     12\n",
       "PARTICIPANTES              0\n",
       "VICTIMA                    9\n",
       "ACUSADO                   23\n",
       "dtype: int64"
      ]
     },
     "execution_count": 4,
     "metadata": {},
     "output_type": "execute_result"
    }
   ],
   "source": [
    "df_h.isna().sum()"
   ]
  },
  {
   "cell_type": "code",
   "execution_count": 5,
   "metadata": {},
   "outputs": [
    {
     "data": {
      "text/plain": [
       "ID_hecho                0\n",
       "FECHA                   0\n",
       "AAAA                    0\n",
       "MM                      0\n",
       "DD                      0\n",
       "ROL                    11\n",
       "VICTIMA                 9\n",
       "SEXO                    6\n",
       "EDAD                   53\n",
       "FECHA_FALLECIMIENTO    68\n",
       "dtype: int64"
      ]
     },
     "execution_count": 5,
     "metadata": {},
     "output_type": "execute_result"
    }
   ],
   "source": [
    "df_v.isna().sum()"
   ]
  },
  {
   "cell_type": "markdown",
   "metadata": {},
   "source": [
    "Ahora observemos los duplicados. Unicamente del set de homicidios, ya que el set de victimas debe tener duplicados al ser más de 1 victima la implicada."
   ]
  },
  {
   "cell_type": "code",
   "execution_count": 6,
   "metadata": {},
   "outputs": [
    {
     "data": {
      "text/html": [
       "<div>\n",
       "<style scoped>\n",
       "    .dataframe tbody tr th:only-of-type {\n",
       "        vertical-align: middle;\n",
       "    }\n",
       "\n",
       "    .dataframe tbody tr th {\n",
       "        vertical-align: top;\n",
       "    }\n",
       "\n",
       "    .dataframe thead th {\n",
       "        text-align: right;\n",
       "    }\n",
       "</style>\n",
       "<table border=\"1\" class=\"dataframe\">\n",
       "  <thead>\n",
       "    <tr style=\"text-align: right;\">\n",
       "      <th></th>\n",
       "      <th>ID</th>\n",
       "      <th>N_VICTIMAS</th>\n",
       "      <th>FECHA</th>\n",
       "      <th>AAAA</th>\n",
       "      <th>MM</th>\n",
       "      <th>DD</th>\n",
       "      <th>HORA</th>\n",
       "      <th>HH</th>\n",
       "      <th>LUGAR_DEL_HECHO</th>\n",
       "      <th>TIPO_DE_CALLE</th>\n",
       "      <th>...</th>\n",
       "      <th>Altura</th>\n",
       "      <th>Cruce</th>\n",
       "      <th>Dirección Normalizada</th>\n",
       "      <th>COMUNA</th>\n",
       "      <th>XY (CABA)</th>\n",
       "      <th>pos x</th>\n",
       "      <th>pos y</th>\n",
       "      <th>PARTICIPANTES</th>\n",
       "      <th>VICTIMA</th>\n",
       "      <th>ACUSADO</th>\n",
       "    </tr>\n",
       "  </thead>\n",
       "  <tbody>\n",
       "  </tbody>\n",
       "</table>\n",
       "<p>0 rows × 21 columns</p>\n",
       "</div>"
      ],
      "text/plain": [
       "Empty DataFrame\n",
       "Columns: [ID, N_VICTIMAS, FECHA, AAAA, MM, DD, HORA, HH, LUGAR_DEL_HECHO, TIPO_DE_CALLE, Calle, Altura, Cruce, Dirección Normalizada, COMUNA, XY (CABA), pos x, pos y, PARTICIPANTES, VICTIMA, ACUSADO]\n",
       "Index: []\n",
       "\n",
       "[0 rows x 21 columns]"
      ]
     },
     "execution_count": 6,
     "metadata": {},
     "output_type": "execute_result"
    }
   ],
   "source": [
    "df_h[df_h.duplicated(keep=False)]"
   ]
  },
  {
   "cell_type": "markdown",
   "metadata": {},
   "source": [
    "No hay valores duplicados en el set de datos."
   ]
  },
  {
   "cell_type": "markdown",
   "metadata": {},
   "source": [
    "# 2 Limpieza nulos y columnas irrelevantes"
   ]
  },
  {
   "cell_type": "markdown",
   "metadata": {},
   "source": [
    "Viendo el set de datos antes, y con esta primera vista, podemos observar que hay varias columnas redundantes o que no aportarán nada a el análisis, así que empezaremos eliminando dichas columnas y explicaremos el criterio de eliminación.\n",
    "\n",
    "**FECHA y DD(día):** Únicamente utilizaré el **mes** y el **año** para graficar la distribución de accidentes, para esto ya cuento con la columna **AAAA** y **MM**, por lo que tanto la columna **FECHA** y **DD(día)** no me serán relevantes para esta tarea, en **ambos** datasets.  \n",
    "**HORA:** La hora en su totalidad, con sus minutos, no la usaré para describir alguna distribución, mientras que la hora en su número entero, sí, esta hora entera se encuentra en la columna **HH**.  \n",
    "**ALTURA y CRUCE:** Estas columnas poseen muchos valores faltantes, y no dan mucha información tanto categórica como cuantitativa para la ubicación del accidente, cosa que sí realizan otras columnas, así que no las usaré.  \n",
    "**DIRECCIÓN NORMALIZADA, LUGAR DEL HECHO, XY(CABA) y PARTICIPANTES:** La información de estas columnas, ya se encuentra en otras columnas y estas son más que una relación entre estas columnas, como por ejemplo la columna participantes es la relación entre victima y acusado, por lo que conservaré las otras columnas para los objetivos del análisis.  \n",
    "**FECHA_FALLECIMIENTO:** Esta columna no nos aportará al análisis.\n",
    "\n",
    "Las columnas **XY(CABA)** y **Participantes**, tienen menos valores nulos que las columnas que ellas mismas relacionan, por lo que la usaremos primero para recuperar la información que podamos de dichas columnas relacionadas y luego las eliminaremos."
   ]
  },
  {
   "cell_type": "code",
   "execution_count": 7,
   "metadata": {},
   "outputs": [],
   "source": [
    "df_h = df_h.drop(columns=['FECHA', 'DD', 'HORA', 'LUGAR_DEL_HECHO', 'Altura', 'Cruce', 'Dirección Normalizada'])\n",
    "df_v = df_v.drop(columns=['FECHA', 'DD', 'FECHA_FALLECIMIENTO'])"
   ]
  },
  {
   "cell_type": "markdown",
   "metadata": {},
   "source": [
    "Veamos que columnas podemos recuperar de la posición X o Y."
   ]
  },
  {
   "cell_type": "code",
   "execution_count": 8,
   "metadata": {},
   "outputs": [
    {
     "data": {
      "text/html": [
       "<div>\n",
       "<style scoped>\n",
       "    .dataframe tbody tr th:only-of-type {\n",
       "        vertical-align: middle;\n",
       "    }\n",
       "\n",
       "    .dataframe tbody tr th {\n",
       "        vertical-align: top;\n",
       "    }\n",
       "\n",
       "    .dataframe thead th {\n",
       "        text-align: right;\n",
       "    }\n",
       "</style>\n",
       "<table border=\"1\" class=\"dataframe\">\n",
       "  <thead>\n",
       "    <tr style=\"text-align: right;\">\n",
       "      <th></th>\n",
       "      <th>ID</th>\n",
       "      <th>N_VICTIMAS</th>\n",
       "      <th>AAAA</th>\n",
       "      <th>MM</th>\n",
       "      <th>HH</th>\n",
       "      <th>TIPO_DE_CALLE</th>\n",
       "      <th>Calle</th>\n",
       "      <th>COMUNA</th>\n",
       "      <th>XY (CABA)</th>\n",
       "      <th>pos x</th>\n",
       "      <th>pos y</th>\n",
       "      <th>PARTICIPANTES</th>\n",
       "      <th>VICTIMA</th>\n",
       "      <th>ACUSADO</th>\n",
       "    </tr>\n",
       "  </thead>\n",
       "  <tbody>\n",
       "    <tr>\n",
       "      <th>38</th>\n",
       "      <td>2016-0052</td>\n",
       "      <td>1</td>\n",
       "      <td>2016</td>\n",
       "      <td>4</td>\n",
       "      <td>20</td>\n",
       "      <td>AUTOPISTA</td>\n",
       "      <td>LUGONES, LEOPOLDO AV.</td>\n",
       "      <td>13</td>\n",
       "      <td>Point (. .)</td>\n",
       "      <td>&lt;NA&gt;</td>\n",
       "      <td>&lt;NA&gt;</td>\n",
       "      <td>MOTO-SD</td>\n",
       "      <td>MOTO</td>\n",
       "      <td>&lt;NA&gt;</td>\n",
       "    </tr>\n",
       "    <tr>\n",
       "      <th>106</th>\n",
       "      <td>2016-0136</td>\n",
       "      <td>1</td>\n",
       "      <td>2016</td>\n",
       "      <td>10</td>\n",
       "      <td>0</td>\n",
       "      <td>AUTOPISTA</td>\n",
       "      <td>AUTOPISTA BUENOS AIRES - LA PLATA</td>\n",
       "      <td>4</td>\n",
       "      <td>Point (. .)</td>\n",
       "      <td>&lt;NA&gt;</td>\n",
       "      <td>&lt;NA&gt;</td>\n",
       "      <td>MOTO-CARGAS</td>\n",
       "      <td>MOTO</td>\n",
       "      <td>CARGAS</td>\n",
       "    </tr>\n",
       "    <tr>\n",
       "      <th>119</th>\n",
       "      <td>2016-0151</td>\n",
       "      <td>1</td>\n",
       "      <td>2016</td>\n",
       "      <td>11</td>\n",
       "      <td>20</td>\n",
       "      <td>CALLE</td>\n",
       "      <td>NaN</td>\n",
       "      <td>0</td>\n",
       "      <td>Point (. .)</td>\n",
       "      <td>&lt;NA&gt;</td>\n",
       "      <td>&lt;NA&gt;</td>\n",
       "      <td>PEATON-SD</td>\n",
       "      <td>PEATON</td>\n",
       "      <td>&lt;NA&gt;</td>\n",
       "    </tr>\n",
       "  </tbody>\n",
       "</table>\n",
       "</div>"
      ],
      "text/plain": [
       "            ID  N_VICTIMAS  AAAA  MM  HH TIPO_DE_CALLE  \\\n",
       "38   2016-0052           1  2016   4  20     AUTOPISTA   \n",
       "106  2016-0136           1  2016  10   0     AUTOPISTA   \n",
       "119  2016-0151           1  2016  11  20         CALLE   \n",
       "\n",
       "                                 Calle  COMUNA    XY (CABA) pos x pos y  \\\n",
       "38               LUGONES, LEOPOLDO AV.      13  Point (. .)  <NA>  <NA>   \n",
       "106  AUTOPISTA BUENOS AIRES - LA PLATA       4  Point (. .)  <NA>  <NA>   \n",
       "119                                NaN       0  Point (. .)  <NA>  <NA>   \n",
       "\n",
       "    PARTICIPANTES VICTIMA ACUSADO  \n",
       "38        MOTO-SD    MOTO    <NA>  \n",
       "106   MOTO-CARGAS    MOTO  CARGAS  \n",
       "119     PEATON-SD  PEATON    <NA>  "
      ]
     },
     "execution_count": 8,
     "metadata": {},
     "output_type": "execute_result"
    }
   ],
   "source": [
    "df_h[(df_h['pos x'].isna()) | (df_h['pos y'].isna())].head(3) # Listamos los datos que tengan faltantes en X o en Y."
   ]
  },
  {
   "cell_type": "markdown",
   "metadata": {},
   "source": [
    "Como podemos ver, ningún XY(CABA) posee información sobre las variables X o Y, por lo que dejaremos esta columna fuera como estaba planeado en un comienzo. Observemos si pasa lo mismo con la columna participantes."
   ]
  },
  {
   "cell_type": "code",
   "execution_count": 9,
   "metadata": {},
   "outputs": [
    {
     "data": {
      "text/html": [
       "<div>\n",
       "<style scoped>\n",
       "    .dataframe tbody tr th:only-of-type {\n",
       "        vertical-align: middle;\n",
       "    }\n",
       "\n",
       "    .dataframe tbody tr th {\n",
       "        vertical-align: top;\n",
       "    }\n",
       "\n",
       "    .dataframe thead th {\n",
       "        text-align: right;\n",
       "    }\n",
       "</style>\n",
       "<table border=\"1\" class=\"dataframe\">\n",
       "  <thead>\n",
       "    <tr style=\"text-align: right;\">\n",
       "      <th></th>\n",
       "      <th>ID</th>\n",
       "      <th>N_VICTIMAS</th>\n",
       "      <th>AAAA</th>\n",
       "      <th>MM</th>\n",
       "      <th>HH</th>\n",
       "      <th>TIPO_DE_CALLE</th>\n",
       "      <th>Calle</th>\n",
       "      <th>COMUNA</th>\n",
       "      <th>XY (CABA)</th>\n",
       "      <th>pos x</th>\n",
       "      <th>pos y</th>\n",
       "      <th>PARTICIPANTES</th>\n",
       "      <th>VICTIMA</th>\n",
       "      <th>ACUSADO</th>\n",
       "    </tr>\n",
       "  </thead>\n",
       "  <tbody>\n",
       "    <tr>\n",
       "      <th>3</th>\n",
       "      <td>2016-0004</td>\n",
       "      <td>1</td>\n",
       "      <td>2016</td>\n",
       "      <td>1</td>\n",
       "      <td>0</td>\n",
       "      <td>AVENIDA</td>\n",
       "      <td>LARRAZABAL AV.</td>\n",
       "      <td>8</td>\n",
       "      <td>Point (99840.65224780 94269.16534422)</td>\n",
       "      <td>-58.46503904</td>\n",
       "      <td>-34.68092974</td>\n",
       "      <td>MOTO-SD</td>\n",
       "      <td>MOTO</td>\n",
       "      <td>&lt;NA&gt;</td>\n",
       "    </tr>\n",
       "    <tr>\n",
       "      <th>32</th>\n",
       "      <td>2016-0045</td>\n",
       "      <td>1</td>\n",
       "      <td>2016</td>\n",
       "      <td>4</td>\n",
       "      <td>10</td>\n",
       "      <td>GRAL PAZ</td>\n",
       "      <td>PAZ, GRAL. AV.</td>\n",
       "      <td>13</td>\n",
       "      <td>Point (99620.34936816 110483.29286598)</td>\n",
       "      <td>-58.46743471</td>\n",
       "      <td>-34.53476874</td>\n",
       "      <td>MOTO-SD</td>\n",
       "      <td>MOTO</td>\n",
       "      <td>&lt;NA&gt;</td>\n",
       "    </tr>\n",
       "    <tr>\n",
       "      <th>35</th>\n",
       "      <td>2016-0049</td>\n",
       "      <td>1</td>\n",
       "      <td>2016</td>\n",
       "      <td>4</td>\n",
       "      <td>0</td>\n",
       "      <td>AUTOPISTA</td>\n",
       "      <td>AUTOPISTA 1 SUR PRESIDENTE ARTURO FRONDIZI</td>\n",
       "      <td>4</td>\n",
       "      <td>Point (. .)</td>\n",
       "      <td>-58.37714647568196</td>\n",
       "      <td>-34.63657525428238</td>\n",
       "      <td>SD-SD</td>\n",
       "      <td>&lt;NA&gt;</td>\n",
       "      <td>&lt;NA&gt;</td>\n",
       "    </tr>\n",
       "  </tbody>\n",
       "</table>\n",
       "</div>"
      ],
      "text/plain": [
       "           ID  N_VICTIMAS  AAAA  MM  HH TIPO_DE_CALLE  \\\n",
       "3   2016-0004           1  2016   1   0       AVENIDA   \n",
       "32  2016-0045           1  2016   4  10      GRAL PAZ   \n",
       "35  2016-0049           1  2016   4   0     AUTOPISTA   \n",
       "\n",
       "                                         Calle  COMUNA  \\\n",
       "3                               LARRAZABAL AV.       8   \n",
       "32                              PAZ, GRAL. AV.      13   \n",
       "35  AUTOPISTA 1 SUR PRESIDENTE ARTURO FRONDIZI       4   \n",
       "\n",
       "                                 XY (CABA)               pos x  \\\n",
       "3    Point (99840.65224780 94269.16534422)        -58.46503904   \n",
       "32  Point (99620.34936816 110483.29286598)        -58.46743471   \n",
       "35                             Point (. .)  -58.37714647568196   \n",
       "\n",
       "                 pos y PARTICIPANTES VICTIMA ACUSADO  \n",
       "3         -34.68092974       MOTO-SD    MOTO    <NA>  \n",
       "32        -34.53476874       MOTO-SD    MOTO    <NA>  \n",
       "35  -34.63657525428238         SD-SD    <NA>    <NA>  "
      ]
     },
     "execution_count": 9,
     "metadata": {},
     "output_type": "execute_result"
    }
   ],
   "source": [
    "df_h[(df_h['PARTICIPANTES'].isna()) | (df_h['ACUSADO'].isna())].head(3)"
   ]
  },
  {
   "cell_type": "markdown",
   "metadata": {},
   "source": [
    "Como podemos observar, esta columna tampoco posee información que las columnas Victima y Acusado no posean, por lo que también la eliminaremos.  \n",
    "**Nota:** Limité los registros a 3 para una mejor visualización en el notebook, pero todos ellos cumplen con lo que afirmé."
   ]
  },
  {
   "cell_type": "code",
   "execution_count": 10,
   "metadata": {},
   "outputs": [],
   "source": [
    "df_h = df_h.drop(columns=['XY (CABA)', 'PARTICIPANTES'])"
   ]
  },
  {
   "cell_type": "markdown",
   "metadata": {},
   "source": [
    "Miremos ahora el total de nulos en nuestras columnas de interés."
   ]
  },
  {
   "cell_type": "code",
   "execution_count": 11,
   "metadata": {},
   "outputs": [
    {
     "data": {
      "text/plain": [
       "ID                0\n",
       "N_VICTIMAS        0\n",
       "AAAA              0\n",
       "MM                0\n",
       "HH                1\n",
       "TIPO_DE_CALLE     0\n",
       "Calle             1\n",
       "COMUNA            0\n",
       "pos x            12\n",
       "pos y            12\n",
       "VICTIMA           9\n",
       "ACUSADO          23\n",
       "dtype: int64"
      ]
     },
     "execution_count": 11,
     "metadata": {},
     "output_type": "execute_result"
    }
   ],
   "source": [
    "df_h.isna().sum()"
   ]
  },
  {
   "cell_type": "markdown",
   "metadata": {},
   "source": [
    "Debido a la poca cantidad de registros nulos que nos quedaron en las demás columnas, siendo 23 el máximo para una de ellas, no se realizará una investigación más profunda para recuperar estos registros, ya que son una muy pequeña parte de los 696 datos del total."
   ]
  },
  {
   "cell_type": "code",
   "execution_count": 12,
   "metadata": {},
   "outputs": [],
   "source": [
    "df_h.dropna(inplace=True)"
   ]
  },
  {
   "cell_type": "code",
   "execution_count": 13,
   "metadata": {},
   "outputs": [
    {
     "data": {
      "text/plain": [
       "ID_hecho     0\n",
       "AAAA         0\n",
       "MM           0\n",
       "ROL         11\n",
       "VICTIMA      9\n",
       "SEXO         6\n",
       "EDAD        53\n",
       "dtype: int64"
      ]
     },
     "execution_count": 13,
     "metadata": {},
     "output_type": "execute_result"
    }
   ],
   "source": [
    "df_v.isna().sum()"
   ]
  },
  {
   "cell_type": "markdown",
   "metadata": {},
   "source": [
    "Se repite lo mismo para los datos de victimas, pero de una manera distinta, ya que los datos de EDAD y SEXO se realizarán para gráficos de distribución independientes, por lo que sus nulos no afectarán a los KPI que expondremos."
   ]
  },
  {
   "cell_type": "code",
   "execution_count": 14,
   "metadata": {},
   "outputs": [],
   "source": [
    "df_v.dropna(subset=['VICTIMA'], inplace=True)"
   ]
  },
  {
   "cell_type": "markdown",
   "metadata": {},
   "source": [
    "# 3. Transformación columnas y datos\n",
    "Para un mejor entendimiento de los datos, renombraré ciertas columnas o datos que puedan aparecer en ellas."
   ]
  },
  {
   "cell_type": "markdown",
   "metadata": {},
   "source": [
    "## 3.1 Columnas"
   ]
  },
  {
   "cell_type": "markdown",
   "metadata": {},
   "source": [
    "Revisemos qué columnas necesitan un cambio de nombre."
   ]
  },
  {
   "cell_type": "code",
   "execution_count": 15,
   "metadata": {},
   "outputs": [
    {
     "data": {
      "text/plain": [
       "Index(['ID', 'N_VICTIMAS', 'AAAA', 'MM', 'HH', 'TIPO_DE_CALLE', 'Calle',\n",
       "       'COMUNA', 'pos x', 'pos y', 'VICTIMA', 'ACUSADO'],\n",
       "      dtype='object')"
      ]
     },
     "execution_count": 15,
     "metadata": {},
     "output_type": "execute_result"
    }
   ],
   "source": [
    "df_h.columns"
   ]
  },
  {
   "cell_type": "markdown",
   "metadata": {},
   "source": [
    "Renombramos las columnas que lo requieran."
   ]
  },
  {
   "cell_type": "code",
   "execution_count": 16,
   "metadata": {},
   "outputs": [],
   "source": [
    "df_h.rename(columns={'AAAA':'Anio', 'MM':'Mes', 'HH':'Hora', 'N_VICTIMAS':'NVictimas', 'TIPO_DE_CALLE':'TipoCalle', 'VICTIMA':'Victima', 'ACUSADO':'Acusado', 'COMUNA':'Comuna'}, inplace=True)"
   ]
  },
  {
   "cell_type": "markdown",
   "metadata": {},
   "source": [
    "Ahora para el set de victimas."
   ]
  },
  {
   "cell_type": "code",
   "execution_count": 17,
   "metadata": {},
   "outputs": [
    {
     "data": {
      "text/plain": [
       "Index(['ID_hecho', 'AAAA', 'MM', 'ROL', 'VICTIMA', 'SEXO', 'EDAD'], dtype='object')"
      ]
     },
     "execution_count": 17,
     "metadata": {},
     "output_type": "execute_result"
    }
   ],
   "source": [
    "df_v.columns"
   ]
  },
  {
   "cell_type": "markdown",
   "metadata": {},
   "source": [
    "Las mismas columnas coinciden para necesitar un cambio de nombre."
   ]
  },
  {
   "cell_type": "code",
   "execution_count": 18,
   "metadata": {},
   "outputs": [],
   "source": [
    "df_v.rename(columns={'ID_hecho':'IdHecho', 'AAAA':'Anio', 'MM':'Mes', 'VICTIMA':'Victima', 'SEXO':'Sexo', 'EDAD':'Edad', 'ROL':'Rol'}, inplace=True)"
   ]
  },
  {
   "cell_type": "markdown",
   "metadata": {},
   "source": [
    "## 3.2 Datos"
   ]
  },
  {
   "cell_type": "markdown",
   "metadata": {},
   "source": [
    "Algunos datos que pueden aparecer en columnas, como es el caso de la columna VICTIMA o ACUSADO, que pueden tener datos como PASAJEROS, en el cual no se refieren a pasajeros como tal sino a un vehículo que transporta pasajeros como un Bus, los reemplazaremos por una palabra de más entendimiento, y a su vez, transformaremos las columnas necesarias a minúsculas para una mejor lectura y búsqueda de los datos."
   ]
  },
  {
   "cell_type": "code",
   "execution_count": 19,
   "metadata": {},
   "outputs": [
    {
     "name": "stdout",
     "output_type": "stream",
     "text": [
      "<class 'pandas.core.frame.DataFrame'>\n",
      "Index: 659 entries, 0 to 695\n",
      "Data columns (total 12 columns):\n",
      " #   Column     Non-Null Count  Dtype \n",
      "---  ------     --------------  ----- \n",
      " 0   ID         659 non-null    object\n",
      " 1   NVictimas  659 non-null    int64 \n",
      " 2   Anio       659 non-null    int64 \n",
      " 3   Mes        659 non-null    int64 \n",
      " 4   Hora       659 non-null    object\n",
      " 5   TipoCalle  659 non-null    object\n",
      " 6   Calle      659 non-null    object\n",
      " 7   Comuna     659 non-null    int64 \n",
      " 8   pos x      659 non-null    object\n",
      " 9   pos y      659 non-null    object\n",
      " 10  Victima    659 non-null    object\n",
      " 11  Acusado    659 non-null    object\n",
      "dtypes: int64(4), object(8)\n",
      "memory usage: 66.9+ KB\n"
     ]
    }
   ],
   "source": [
    "df_h.info()"
   ]
  },
  {
   "cell_type": "code",
   "execution_count": 20,
   "metadata": {},
   "outputs": [],
   "source": [
    "cats = ['TipoCalle', 'Calle', 'Victima', 'Acusado'] # Nuestras columnas categóricas de interés.\n",
    "df_h[cats] = df_h[cats].map(str.lower) # Convertimos las columnas a minúsculas."
   ]
  },
  {
   "cell_type": "markdown",
   "metadata": {},
   "source": [
    "Reemplazaremos ahora unas palabras clave para un mejor entendimiento. Como por ejemplo las Victimas o Acusados de tipo pasajeros, son en realidad autobuses de transporte de pasajeros, los datos de otro, son vehículos de emergencia según la hoja llamada clas en el Excel, al igual que los movil. También hay 1 caso de peaton_moto, el cual es posiblemente un peatón transportando una moto en las manos, que será simplemente un peatón."
   ]
  },
  {
   "cell_type": "code",
   "execution_count": 21,
   "metadata": {},
   "outputs": [
    {
     "name": "stderr",
     "output_type": "stream",
     "text": [
      "C:\\Users\\USUARIO\\AppData\\Local\\Temp\\ipykernel_26472\\719601736.py:2: FutureWarning: Downcasting behavior in `replace` is deprecated and will be removed in a future version. To retain the old behavior, explicitly call `result.infer_objects(copy=False)`. To opt-in to the future behavior, set `pd.set_option('future.no_silent_downcasting', True)`\n",
      "  df_h.replace(reemplazos, inplace=True) # Reemplazamos.\n"
     ]
    }
   ],
   "source": [
    "reemplazos = {'cargas': 'de_carga', 'pasajeros': 'autobus', 'otro': 'emergencias', 'movil': 'emergencias', 'peaton_moto': 'peaton'} # Definimos las palabras que vamos a reemplazar.\n",
    "df_h.replace(reemplazos, inplace=True) # Reemplazamos."
   ]
  },
  {
   "cell_type": "markdown",
   "metadata": {},
   "source": [
    "Ahora realizamos lo mismo con los datos de las Víctimas."
   ]
  },
  {
   "cell_type": "code",
   "execution_count": 22,
   "metadata": {},
   "outputs": [
    {
     "name": "stdout",
     "output_type": "stream",
     "text": [
      "<class 'pandas.core.frame.DataFrame'>\n",
      "Index: 708 entries, 0 to 716\n",
      "Data columns (total 7 columns):\n",
      " #   Column   Non-Null Count  Dtype \n",
      "---  ------   --------------  ----- \n",
      " 0   IdHecho  708 non-null    object\n",
      " 1   Anio     708 non-null    int64 \n",
      " 2   Mes      708 non-null    int64 \n",
      " 3   Rol      705 non-null    object\n",
      " 4   Victima  708 non-null    object\n",
      " 5   Sexo     704 non-null    object\n",
      " 6   Edad     659 non-null    object\n",
      "dtypes: int64(2), object(5)\n",
      "memory usage: 44.2+ KB\n"
     ]
    }
   ],
   "source": [
    "df_v.info()"
   ]
  },
  {
   "cell_type": "code",
   "execution_count": 23,
   "metadata": {},
   "outputs": [],
   "source": [
    "df_v['Victima'] = df_v['Victima'].str.lower()\n",
    "df_v['Rol'] = df_v['Rol'].str.lower()"
   ]
  },
  {
   "cell_type": "code",
   "execution_count": 24,
   "metadata": {},
   "outputs": [],
   "source": [
    "df_v.replace(reemplazos, inplace=True)"
   ]
  },
  {
   "cell_type": "code",
   "execution_count": 25,
   "metadata": {},
   "outputs": [],
   "source": [
    "df_v.replace({'MASCULINO':'M', 'FEMENINO':'F'}, inplace=True)"
   ]
  },
  {
   "cell_type": "markdown",
   "metadata": {},
   "source": [
    "# 4. Limpieza profunda"
   ]
  },
  {
   "cell_type": "markdown",
   "metadata": {},
   "source": [
    "## 4.1 Homicidios"
   ]
  },
  {
   "cell_type": "markdown",
   "metadata": {},
   "source": [
    "**Advertencia:** Para evitar errores en la re-ejecución del Notebook, todas las columnas de mapeo serán comentadas, si las quieres ejecutar puedes seleccionar toda la celda de código y usar CTRL + / para des-comentar. Luego, lee los comentarios y los print guía para reemplazar los valores. Para realizar el mapeo automáticamente al ejecutar el notebook, se guardó un JSON con el último mapeo realizado que no dió errores, y dicho mapeo se leerá y aplicará automáticamente al set de datos."
   ]
  },
  {
   "cell_type": "markdown",
   "metadata": {},
   "source": [
    "Eliminemos posibles errores de escritura de la columna Calle, también reemplacemos valores de ñ y tildes desconocidos."
   ]
  },
  {
   "cell_type": "code",
   "execution_count": 26,
   "metadata": {},
   "outputs": [
    {
     "data": {
      "text/plain": [
       "{'magari?os cervantes, a.': 'magariños cervantes, a.',\n",
       " 'nu?ez': 'nuñez',\n",
       " 'casta?ares av.': 'castañares av.',\n",
       " 'albari?o': 'albariño',\n",
       " 'autopista presidente h?ctor j. c?mpora': 'autopista presidente héctor j. cámpora',\n",
       " 'mu?ecas': 'muñecas',\n",
       " 'rodriguez pe?a': 'rodriguez peña'}"
      ]
     },
     "execution_count": 26,
     "metadata": {},
     "output_type": "execute_result"
    }
   ],
   "source": [
    "# mapeo = {} # Guardamos los valores que cambiaremos.\n",
    "# for elm in (df_h['Calle'].unique()): # Iteramos en cada valor único de Calle.\n",
    "#     old = elm # El nombre del elemento lo almacenaremos, ya que lo cambiaremos.\n",
    "#     while '?' in elm: # Mientras que haya un carácter desconocido en el elemento, lo trataremos manualmente para saber de qué carácter se trata.\n",
    "#         rep = input(f'Replace for {elm}:') # Ingresamos el reemplazo.\n",
    "#         elm = elm.replace('?', rep, 1) # Reemplazamos la primera coincidencia.\n",
    "#     if elm != old: # Si el elemento cambió, lo agregamos a el mapeo que usaremos.\n",
    "#         mapeo[old] = elm\n",
    "# mapeo # Mostramos el mapeo para verificar."
   ]
  },
  {
   "cell_type": "code",
   "execution_count": 27,
   "metadata": {},
   "outputs": [],
   "source": [
    "# df_h.replace(mapeo, inplace=True) # Reemplazamos las calles que no se leyeron bien por los valores mapeados previamente."
   ]
  },
  {
   "cell_type": "markdown",
   "metadata": {},
   "source": [
    "Ahora, tratemos los errores de escritura que pudieron tener las calles, primero los detectaremos con una función y luego los reemplazaremos si es necesario."
   ]
  },
  {
   "cell_type": "code",
   "execution_count": 28,
   "metadata": {},
   "outputs": [],
   "source": [
    "# # Extraemos las avenidas y las convertimos en un DataFrame para solo iterar en las primeras filas siguientes a ellas.\n",
    "# # creamos una serie temporal, ordenado, y retornamos sus valores únicos.\n",
    "# streets = (sorted(df_h['Calle'].unique())) \n",
    "# # En base a la serie, creamos un DataFrame, para iterar con más comodidad en sus indices.\n",
    "# streets = pd.DataFrame({'Calle': streets})\n",
    "# # Con esta función encontraremos el puntaje que le da el SequenceMatcher basando en la similitud de las cadenas.\n",
    "# def similar(a, b):\n",
    "#     return SequenceMatcher(None, a, b).ratio() # Retornamos la similitud entre las cadenas de texto A y B.\n",
    "\n",
    "# # La función agrupar texto, recibe un DataFrame, una columna objetivo, y un límite, el cual definirá qué tanto se deben parecer las cadenas,\n",
    "# # para resultados diferentes modificar el valor de threshold, especificándolo en los parámetros de la función.\n",
    "# def agrupar_texto(df, col, threshold=0.80):\n",
    "#     # Guardamos en un diccionario los valores que se lograron agrupar.\n",
    "#     agrupados = {}\n",
    "#     # Guardamos los ya categorizados para evitar redundancias.\n",
    "#     done = []\n",
    "#     # Iteramos en el indice y las filas de el DataFrame ingresado en la función.\n",
    "#     for i, row in df.iterrows():\n",
    "#         # Limitar la comparación solo a los siguientes 10 registros.\n",
    "#         for j in range(i + 1, min(i + 11, len(df))):\n",
    "#             # Localizamos el elemento en la posición J en la columna ingresada.\n",
    "#             elm = df.loc[j, col]\n",
    "#             # Calculamos la similitud.\n",
    "#             similitud = similar(row[col], elm)\n",
    "#             # Si es mayor al límite, agregamos el elemento a el grupo.\n",
    "#             if similitud > threshold:\n",
    "#                 if not(elm in done):\n",
    "#                     agrupados.setdefault(row[col], []).append(elm)\n",
    "#                 done.append(elm)\n",
    "#     return agrupados\n",
    "\n",
    "# # Agrupamos los desarrolladores con nuestra función.\n",
    "# similares = agrupar_texto(streets, 'Calle')\n",
    "# similares"
   ]
  },
  {
   "cell_type": "markdown",
   "metadata": {},
   "source": [
    "Al ser pocos registros, los reemplazaremos manualmente pasando sobre cada uno y decidiendo en cada uno, ya que hay algunos que no deben ser reemplazados, pero si aumentamos el límite de detección de la función, no detectará otros que sí deberían serlo."
   ]
  },
  {
   "cell_type": "code",
   "execution_count": 29,
   "metadata": {},
   "outputs": [],
   "source": [
    "# # Un diccionario temporal para evitar errores en la iteración.\n",
    "# temp = similares.copy()\n",
    "# # Iteramos en las llaves y valores.\n",
    "# for k, v in similares.items():\n",
    "#     # Confirmamos si se quieren reemplazar o cambiar el valor final que tendrá.\n",
    "#     print(f\"Se reemplazaran: {v} por '{k}'.\")\n",
    "#     print(\"1. Confirmar\\n2. Cambiar valor final\\n0. No Cambiar\")\n",
    "#     op = int(input())\n",
    "#     # Para no cambiar el valor se ingresa 0, esto omitirá ese cambio.\n",
    "#     if op == 0:\n",
    "#         del temp[k]\n",
    "#     # Para modificar el valor final, ingresa 2 y luego ingresa la posición en la que está la cadena que se mantendrá.\n",
    "#     elif op == 2:\n",
    "#         pos = int(input(f\"¿En qué posición está el elemento que quiere reemplazar?, cuente desde 1.\\nLista: {v}\"))\n",
    "#         # Creamos la nueva llave.\n",
    "#         new = temp[k][pos-1]\n",
    "#         # Eliminamos el valor de la lista.\n",
    "#         v.remove(new)\n",
    "#         # Agregamos el valor antiguo a la lista.\n",
    "#         v.append(k)\n",
    "#         # Eliminamos la antigua llave.\n",
    "#         del temp[k]\n",
    "#         # Creamos con la nueva llave y la lista con el valor anterior incluido, un nuevo elemento en el mapeo.\n",
    "#         temp[new] = v\n",
    "#     clear_output()\n",
    "# temp"
   ]
  },
  {
   "cell_type": "markdown",
   "metadata": {},
   "source": [
    "Creamos la función que mapeara el DataFrame."
   ]
  },
  {
   "cell_type": "code",
   "execution_count": 29,
   "metadata": {},
   "outputs": [],
   "source": [
    "def mapear(df, temp):\n",
    "    # Iteramos sobre los elementos y llaves de nuestro mapeo previamente creado.\n",
    "    for k, elms in temp.items():\n",
    "        # Iteramos sobre cada elemento a reemplazar.\n",
    "        for elm in elms:\n",
    "            # Reemplazamos el elemento por la llave en el DataFrame.\n",
    "            df.replace(elm, k, inplace=True)"
   ]
  },
  {
   "cell_type": "markdown",
   "metadata": {},
   "source": [
    "Mapeamos o lanzamos una advertencia si no existe ningún mapeo previo o actual."
   ]
  },
  {
   "cell_type": "code",
   "execution_count": 30,
   "metadata": {},
   "outputs": [
    {
     "name": "stdout",
     "output_type": "stream",
     "text": [
      "No se ha realizado un mapeo, se intentará cargar uno.\n",
      "El mapeo se cargó y se realizó exitosamente.\n"
     ]
    }
   ],
   "source": [
    "path = '../Data/Processed/last_map.json' # Ruta del archivo.\n",
    "try:\n",
    "    # Intentamos mapear con un mapeo actual, si se ejecutaron las celdas anteriores.\n",
    "    mapear(df_h, temp)\n",
    "    # Guardamos el mapeo creado para su posterior uso.\n",
    "    with open(path, 'w', encoding='utf-8') as file:\n",
    "        json.dump(temp, file)\n",
    "# Si no se ejecutaron, intentaremos buscar un mapeo previo.\n",
    "except NameError:\n",
    "    print(\"No se ha realizado un mapeo, se intentará cargar uno.\")\n",
    "    if os.path.exists(path):\n",
    "        # Si existe un mapeo previo, lo usaremos.\n",
    "        with open(path, 'r', encoding='utf-8') as file:\n",
    "            temp = json.load(file)\n",
    "            mapear(df_h, temp)\n",
    "            print(\"El mapeo se cargó y se realizó exitosamente.\")\n",
    "    # Si todo falló, describiremos lo que ocurrió.\n",
    "    else:\n",
    "        print(\"No se encontró un mapeo previo, realiza uno para hallar los errores de escritura en las variables.\")"
   ]
  },
  {
   "cell_type": "markdown",
   "metadata": {},
   "source": [
    "## 4.2 Victimas"
   ]
  },
  {
   "cell_type": "markdown",
   "metadata": {},
   "source": [
    "Aún debemos limpiar los valores de Victimas que no tengan registros en Homicidios, ya que no tendremos información de ellos.  \n",
    "También asignaremos el rol de conductor a las victimas que solo tengan 1 cantidad total de victimas y que su rol sea nulo, ya que es muy probable que haya sido el conductor el implicado en el homicidio."
   ]
  },
  {
   "cell_type": "code",
   "execution_count": 32,
   "metadata": {},
   "outputs": [],
   "source": [
    "df_v.loc[(df_v['Rol'].isna()) & ~(df_v.duplicated()), 'Rol'] = 'conductor' # Reemplazamos los roles que sean nulos, y que a su vez no tengan duplicados, por el rol de conductor."
   ]
  },
  {
   "cell_type": "markdown",
   "metadata": {},
   "source": [
    "Ahora eliminamos los registros de los que no se tenga información."
   ]
  },
  {
   "cell_type": "code",
   "execution_count": 33,
   "metadata": {},
   "outputs": [],
   "source": [
    "df_v = df_v[(df_v['IdHecho'].isin(df_h['ID']))] # Filtramos el DataFrame incluyendo únicamente los registros que tengan un ID presente en homicidios."
   ]
  },
  {
   "cell_type": "markdown",
   "metadata": {},
   "source": [
    "Verificamos los nulos"
   ]
  },
  {
   "cell_type": "code",
   "execution_count": 35,
   "metadata": {},
   "outputs": [
    {
     "data": {
      "text/plain": [
       "IdHecho     0\n",
       "Anio        0\n",
       "Mes         0\n",
       "Rol         0\n",
       "Victima     0\n",
       "Sexo        1\n",
       "Edad       43\n",
       "dtype: int64"
      ]
     },
     "execution_count": 35,
     "metadata": {},
     "output_type": "execute_result"
    }
   ],
   "source": [
    "df_v.isna().sum()"
   ]
  },
  {
   "cell_type": "markdown",
   "metadata": {},
   "source": [
    "# 5. Exportamos los datos"
   ]
  },
  {
   "cell_type": "markdown",
   "metadata": {},
   "source": [
    "Previsualizamos los datos para ver el resultado de la limpieza."
   ]
  },
  {
   "cell_type": "code",
   "execution_count": 36,
   "metadata": {},
   "outputs": [
    {
     "data": {
      "text/html": [
       "<div>\n",
       "<style scoped>\n",
       "    .dataframe tbody tr th:only-of-type {\n",
       "        vertical-align: middle;\n",
       "    }\n",
       "\n",
       "    .dataframe tbody tr th {\n",
       "        vertical-align: top;\n",
       "    }\n",
       "\n",
       "    .dataframe thead th {\n",
       "        text-align: right;\n",
       "    }\n",
       "</style>\n",
       "<table border=\"1\" class=\"dataframe\">\n",
       "  <thead>\n",
       "    <tr style=\"text-align: right;\">\n",
       "      <th></th>\n",
       "      <th>ID</th>\n",
       "      <th>NVictimas</th>\n",
       "      <th>Anio</th>\n",
       "      <th>Mes</th>\n",
       "      <th>Hora</th>\n",
       "      <th>TipoCalle</th>\n",
       "      <th>Calle</th>\n",
       "      <th>Comuna</th>\n",
       "      <th>pos x</th>\n",
       "      <th>pos y</th>\n",
       "      <th>Victima</th>\n",
       "      <th>Acusado</th>\n",
       "    </tr>\n",
       "  </thead>\n",
       "  <tbody>\n",
       "    <tr>\n",
       "      <th>0</th>\n",
       "      <td>2016-0001</td>\n",
       "      <td>1</td>\n",
       "      <td>2016</td>\n",
       "      <td>1</td>\n",
       "      <td>4</td>\n",
       "      <td>avenida</td>\n",
       "      <td>piedra buena av.</td>\n",
       "      <td>8</td>\n",
       "      <td>-58.47533969</td>\n",
       "      <td>-34.68757022</td>\n",
       "      <td>moto</td>\n",
       "      <td>auto</td>\n",
       "    </tr>\n",
       "    <tr>\n",
       "      <th>1</th>\n",
       "      <td>2016-0002</td>\n",
       "      <td>1</td>\n",
       "      <td>2016</td>\n",
       "      <td>1</td>\n",
       "      <td>1</td>\n",
       "      <td>gral paz</td>\n",
       "      <td>paz, gral. av.</td>\n",
       "      <td>9</td>\n",
       "      <td>-58.50877521</td>\n",
       "      <td>-34.66977709</td>\n",
       "      <td>auto</td>\n",
       "      <td>autobus</td>\n",
       "    </tr>\n",
       "    <tr>\n",
       "      <th>2</th>\n",
       "      <td>2016-0003</td>\n",
       "      <td>1</td>\n",
       "      <td>2016</td>\n",
       "      <td>1</td>\n",
       "      <td>7</td>\n",
       "      <td>avenida</td>\n",
       "      <td>entre rios av.</td>\n",
       "      <td>1</td>\n",
       "      <td>-58.39040293</td>\n",
       "      <td>-34.63189362</td>\n",
       "      <td>moto</td>\n",
       "      <td>auto</td>\n",
       "    </tr>\n",
       "    <tr>\n",
       "      <th>4</th>\n",
       "      <td>2016-0005</td>\n",
       "      <td>1</td>\n",
       "      <td>2016</td>\n",
       "      <td>1</td>\n",
       "      <td>5</td>\n",
       "      <td>avenida</td>\n",
       "      <td>san juan av.</td>\n",
       "      <td>1</td>\n",
       "      <td>-58.38718297</td>\n",
       "      <td>-34.62246630</td>\n",
       "      <td>moto</td>\n",
       "      <td>autobus</td>\n",
       "    </tr>\n",
       "    <tr>\n",
       "      <th>5</th>\n",
       "      <td>2016-0008</td>\n",
       "      <td>1</td>\n",
       "      <td>2016</td>\n",
       "      <td>1</td>\n",
       "      <td>18</td>\n",
       "      <td>avenida</td>\n",
       "      <td>27 de febrero av.</td>\n",
       "      <td>8</td>\n",
       "      <td>-58.44451316</td>\n",
       "      <td>-34.68475866</td>\n",
       "      <td>moto</td>\n",
       "      <td>objeto fijo</td>\n",
       "    </tr>\n",
       "  </tbody>\n",
       "</table>\n",
       "</div>"
      ],
      "text/plain": [
       "          ID  NVictimas  Anio  Mes  Hora TipoCalle              Calle  Comuna  \\\n",
       "0  2016-0001          1  2016    1     4   avenida   piedra buena av.       8   \n",
       "1  2016-0002          1  2016    1     1  gral paz     paz, gral. av.       9   \n",
       "2  2016-0003          1  2016    1     7   avenida     entre rios av.       1   \n",
       "4  2016-0005          1  2016    1     5   avenida       san juan av.       1   \n",
       "5  2016-0008          1  2016    1    18   avenida  27 de febrero av.       8   \n",
       "\n",
       "          pos x         pos y Victima      Acusado  \n",
       "0  -58.47533969  -34.68757022    moto         auto  \n",
       "1  -58.50877521  -34.66977709    auto      autobus  \n",
       "2  -58.39040293  -34.63189362    moto         auto  \n",
       "4  -58.38718297  -34.62246630    moto      autobus  \n",
       "5  -58.44451316  -34.68475866    moto  objeto fijo  "
      ]
     },
     "execution_count": 36,
     "metadata": {},
     "output_type": "execute_result"
    }
   ],
   "source": [
    "df_h.head()"
   ]
  },
  {
   "cell_type": "code",
   "execution_count": 37,
   "metadata": {},
   "outputs": [
    {
     "data": {
      "text/html": [
       "<div>\n",
       "<style scoped>\n",
       "    .dataframe tbody tr th:only-of-type {\n",
       "        vertical-align: middle;\n",
       "    }\n",
       "\n",
       "    .dataframe tbody tr th {\n",
       "        vertical-align: top;\n",
       "    }\n",
       "\n",
       "    .dataframe thead th {\n",
       "        text-align: right;\n",
       "    }\n",
       "</style>\n",
       "<table border=\"1\" class=\"dataframe\">\n",
       "  <thead>\n",
       "    <tr style=\"text-align: right;\">\n",
       "      <th></th>\n",
       "      <th>IdHecho</th>\n",
       "      <th>Anio</th>\n",
       "      <th>Mes</th>\n",
       "      <th>Rol</th>\n",
       "      <th>Victima</th>\n",
       "      <th>Sexo</th>\n",
       "      <th>Edad</th>\n",
       "    </tr>\n",
       "  </thead>\n",
       "  <tbody>\n",
       "    <tr>\n",
       "      <th>0</th>\n",
       "      <td>2016-0001</td>\n",
       "      <td>2016</td>\n",
       "      <td>1</td>\n",
       "      <td>conductor</td>\n",
       "      <td>moto</td>\n",
       "      <td>M</td>\n",
       "      <td>19</td>\n",
       "    </tr>\n",
       "    <tr>\n",
       "      <th>1</th>\n",
       "      <td>2016-0002</td>\n",
       "      <td>2016</td>\n",
       "      <td>1</td>\n",
       "      <td>conductor</td>\n",
       "      <td>auto</td>\n",
       "      <td>M</td>\n",
       "      <td>70</td>\n",
       "    </tr>\n",
       "    <tr>\n",
       "      <th>2</th>\n",
       "      <td>2016-0003</td>\n",
       "      <td>2016</td>\n",
       "      <td>1</td>\n",
       "      <td>conductor</td>\n",
       "      <td>moto</td>\n",
       "      <td>M</td>\n",
       "      <td>30</td>\n",
       "    </tr>\n",
       "    <tr>\n",
       "      <th>4</th>\n",
       "      <td>2016-0005</td>\n",
       "      <td>2016</td>\n",
       "      <td>1</td>\n",
       "      <td>conductor</td>\n",
       "      <td>moto</td>\n",
       "      <td>M</td>\n",
       "      <td>29</td>\n",
       "    </tr>\n",
       "    <tr>\n",
       "      <th>5</th>\n",
       "      <td>2016-0008</td>\n",
       "      <td>2016</td>\n",
       "      <td>1</td>\n",
       "      <td>conductor</td>\n",
       "      <td>moto</td>\n",
       "      <td>M</td>\n",
       "      <td>30</td>\n",
       "    </tr>\n",
       "  </tbody>\n",
       "</table>\n",
       "</div>"
      ],
      "text/plain": [
       "     IdHecho  Anio  Mes        Rol Victima Sexo Edad\n",
       "0  2016-0001  2016    1  conductor    moto    M   19\n",
       "1  2016-0002  2016    1  conductor    auto    M   70\n",
       "2  2016-0003  2016    1  conductor    moto    M   30\n",
       "4  2016-0005  2016    1  conductor    moto    M   29\n",
       "5  2016-0008  2016    1  conductor    moto    M   30"
      ]
     },
     "execution_count": 37,
     "metadata": {},
     "output_type": "execute_result"
    }
   ],
   "source": [
    "df_v.head()"
   ]
  },
  {
   "cell_type": "markdown",
   "metadata": {},
   "source": [
    "Eliminamos las columnas redundantes de las victimas."
   ]
  },
  {
   "cell_type": "code",
   "execution_count": 38,
   "metadata": {},
   "outputs": [],
   "source": [
    "df_v.drop(columns=['Anio', 'Mes', 'Victima'], inplace=True)"
   ]
  },
  {
   "cell_type": "markdown",
   "metadata": {},
   "source": [
    "Exportamos cada DataFrame para su uso en el EDA."
   ]
  },
  {
   "cell_type": "code",
   "execution_count": 39,
   "metadata": {},
   "outputs": [],
   "source": [
    "df_h.to_csv('../Data/Processed/homicidios_clean.csv', index=False, encoding='utf-8')\n",
    "df_v.to_csv('../Data/Processed/victimas_clean.csv', index=False, encoding='utf-8')"
   ]
  }
 ],
 "metadata": {
  "kernelspec": {
   "display_name": "Python 3",
   "language": "python",
   "name": "python3"
  },
  "language_info": {
   "codemirror_mode": {
    "name": "ipython",
    "version": 3
   },
   "file_extension": ".py",
   "mimetype": "text/x-python",
   "name": "python",
   "nbconvert_exporter": "python",
   "pygments_lexer": "ipython3",
   "version": "3.12.0"
  }
 },
 "nbformat": 4,
 "nbformat_minor": 2
}
